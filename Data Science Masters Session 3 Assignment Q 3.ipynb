{
 "cells": [
  {
   "cell_type": "code",
   "execution_count": 5,
   "metadata": {},
   "outputs": [
    {
     "name": "stdout",
     "output_type": "stream",
     "text": [
      "Please input a list of words to evaluate: Manikarnika Major Niharika Mihika Sravs\n",
      "The longest word is Manikarnika with length 11\n"
     ]
    }
   ],
   "source": [
    "## longestWord function and its length\n",
    "def longestWord():\n",
    "    text = input(\"Please input a list of words to evaluate: \")\n",
    "\n",
    "    longestword = 0\n",
    "\n",
    "    for w in text.split():\n",
    "        if len(w) > longestword:\n",
    "            longestword = len(w)\n",
    "            longest_word = w\n",
    "\n",
    "    print(\"The longest word is\", longest_word, \"with length\", len(longest_word))\n",
    "\n",
    "longestWord()"
   ]
  },
  {
   "cell_type": "code",
   "execution_count": null,
   "metadata": {},
   "outputs": [],
   "source": []
  }
 ],
 "metadata": {
  "kernelspec": {
   "display_name": "Python 3",
   "language": "python",
   "name": "python3"
  },
  "language_info": {
   "codemirror_mode": {
    "name": "ipython",
    "version": 3
   },
   "file_extension": ".py",
   "mimetype": "text/x-python",
   "name": "python",
   "nbconvert_exporter": "python",
   "pygments_lexer": "ipython3",
   "version": "3.6.5"
  }
 },
 "nbformat": 4,
 "nbformat_minor": 2
}
